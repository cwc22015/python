{
 "cells": [
  {
   "cell_type": "markdown",
   "metadata": {
    "tags": [
     "pdf-title"
    ]
   },
   "source": [
    "# Implementing a Neural Network\n",
    "In this exercise we will develop a neural network with fully-connected layers to perform classification, and test it out on the CIFAR-10 dataset."
   ]
  },
  {
   "cell_type": "code",
   "execution_count": 1,
   "metadata": {
    "tags": [
     "pdf-ignore"
    ]
   },
   "outputs": [],
   "source": [
    "# A bit of setup\n",
    "\n",
    "import numpy as np\n",
    "import matplotlib.pyplot as plt\n",
    "\n",
    "from cs231n.classifiers.neural_net import TwoLayerNet\n",
    "\n",
    "%matplotlib inline\n",
    "plt.rcParams['figure.figsize'] = (10.0, 8.0) # set default size of plots\n",
    "plt.rcParams['image.interpolation'] = 'nearest'\n",
    "plt.rcParams['image.cmap'] = 'gray'\n",
    "\n",
    "# for auto-reloading external modules\n",
    "# see http://stackoverflow.com/questions/1907993/autoreload-of-modules-in-ipython\n",
    "%load_ext autoreload\n",
    "%autoreload 2\n",
    "\n",
    "def rel_error(x, y):\n",
    "    \"\"\" returns relative error \"\"\"\n",
    "    return np.max(np.abs(x - y) / (np.maximum(1e-8, np.abs(x) + np.abs(y))))"
   ]
  },
  {
   "cell_type": "markdown",
   "metadata": {
    "tags": [
     "pdf-ignore"
    ]
   },
   "source": [
    "We will use the class `TwoLayerNet` in the file `cs231n/classifiers/neural_net.py` to represent instances of our network. The network parameters are stored in the instance variable `self.params` where keys are string parameter names and values are numpy arrays. Below, we initialize toy data and a toy model that we will use to develop your implementation."
   ]
  },
  {
   "cell_type": "code",
   "execution_count": 2,
   "metadata": {
    "scrolled": true,
    "tags": [
     "pdf-ignore"
    ]
   },
   "outputs": [],
   "source": [
    "# Create a small net and some toy data to check your implementations.\n",
    "# Note that we set the random seed for repeatable experiments.\n",
    "\n",
    "input_size = 4\n",
    "hidden_size = 10\n",
    "num_classes = 3\n",
    "num_inputs = 5\n",
    "\n",
    "def init_toy_model():\n",
    "    np.random.seed(0)\n",
    "    return TwoLayerNet(input_size, hidden_size, num_classes, std=1e-1)\n",
    "\n",
    "def init_toy_data():\n",
    "    np.random.seed(1)\n",
    "    X = 10 * np.random.randn(num_inputs, input_size)\n",
    "    y = np.array([0, 1, 2, 2, 1])\n",
    "    return X, y\n",
    "\n",
    "net = init_toy_model()\n",
    "X, y = init_toy_data()"
   ]
  },
  {
   "cell_type": "code",
   "execution_count": 3,
   "metadata": {},
   "outputs": [
    {
     "name": "stdout",
     "output_type": "stream",
     "text": [
      "[[ 16.24345364  -6.11756414  -5.28171752 -10.72968622]\n",
      " [  8.65407629 -23.01538697  17.44811764  -7.61206901]\n",
      " [  3.19039096  -2.49370375  14.62107937 -20.60140709]\n",
      " [ -3.22417204  -3.84054355  11.33769442 -10.99891267]\n",
      " [ -1.72428208  -8.77858418   0.42213747   5.82815214]]\n"
     ]
    }
   ],
   "source": [
    "print(X)"
   ]
  },
  {
   "cell_type": "code",
   "execution_count": 4,
   "metadata": {
    "scrolled": true
   },
   "outputs": [
    {
     "name": "stdout",
     "output_type": "stream",
     "text": [
      "W1\n",
      "[[ 0.17640523  0.04001572  0.0978738   0.22408932  0.1867558  -0.09772779\n",
      "   0.09500884 -0.01513572 -0.01032189  0.04105985]\n",
      " [ 0.01440436  0.14542735  0.07610377  0.0121675   0.04438632  0.03336743\n",
      "   0.14940791 -0.02051583  0.03130677 -0.08540957]\n",
      " [-0.25529898  0.06536186  0.08644362 -0.0742165   0.22697546 -0.14543657\n",
      "   0.00457585 -0.01871839  0.15327792  0.14693588]\n",
      " [ 0.01549474  0.03781625 -0.08877857 -0.19807965 -0.03479121  0.0156349\n",
      "   0.12302907  0.12023798 -0.03873268 -0.03023028]]\n",
      "b1\n",
      "[0. 0. 0. 0. 0. 0. 0. 0. 0. 0.]\n",
      "W2\n",
      "[[-0.1048553  -0.14200179 -0.17062702]\n",
      " [ 0.19507754 -0.05096522 -0.04380743]\n",
      " [-0.12527954  0.07774904 -0.16138978]\n",
      " [-0.02127403 -0.08954666  0.03869025]\n",
      " [-0.05108051 -0.11806322 -0.00281822]\n",
      " [ 0.04283319  0.00665172  0.03024719]\n",
      " [-0.06343221 -0.03627412 -0.06724604]\n",
      " [-0.03595532 -0.08131463 -0.17262826]\n",
      " [ 0.01774261 -0.04017809 -0.16301983]\n",
      " [ 0.04627823 -0.09072984  0.00519454]]\n",
      "b2\n",
      "[0. 0. 0.]\n"
     ]
    }
   ],
   "source": [
    "print('W1')\n",
    "print(net.params['W1'])\n",
    "print('b1')\n",
    "print(net.params['b1'])\n",
    "print('W2')\n",
    "print(net.params['W2'])\n",
    "print('b2')\n",
    "print(net.params['b2'])"
   ]
  },
  {
   "cell_type": "code",
   "execution_count": null,
   "metadata": {},
   "outputs": [],
   "source": []
  },
  {
   "cell_type": "code",
   "execution_count": null,
   "metadata": {},
   "outputs": [],
   "source": []
  },
  {
   "cell_type": "markdown",
   "metadata": {},
   "source": [
    "# Forward pass: compute scores\n",
    "Open the file `cs231n/classifiers/neural_net.py` and look at the method `TwoLayerNet.loss`. This function is very similar to the loss functions you have written for the SVM and Softmax exercises: It takes the data and weights and computes the class scores, the loss, and the gradients on the parameters. \n",
    "\n",
    "Implement the first part of the forward pass which uses the weights and biases to compute the scores for all inputs."
   ]
  },
  {
   "cell_type": "code",
   "execution_count": 5,
   "metadata": {
    "scrolled": true
   },
   "outputs": [
    {
     "name": "stdout",
     "output_type": "stream",
     "text": [
      "Your scores:\n",
      "[[-0.81233741 -1.27654624 -0.70335995]\n",
      " [-0.17129677 -1.18803311 -0.47310444]\n",
      " [-0.51590475 -1.01354314 -0.8504215 ]\n",
      " [-0.15419291 -0.48629638 -0.52901952]\n",
      " [-0.00618733 -0.12435261 -0.15226949]]\n",
      "\n",
      "correct scores:\n",
      "[[-0.81233741 -1.27654624 -0.70335995]\n",
      " [-0.17129677 -1.18803311 -0.47310444]\n",
      " [-0.51590475 -1.01354314 -0.8504215 ]\n",
      " [-0.15419291 -0.48629638 -0.52901952]\n",
      " [-0.00618733 -0.12435261 -0.15226949]]\n",
      "\n",
      "Difference between your scores and correct scores:\n",
      "3.6802720496109664e-08\n"
     ]
    }
   ],
   "source": [
    "scores = net.loss(X)\n",
    "print('Your scores:')\n",
    "print(scores)\n",
    "print()\n",
    "print('correct scores:')\n",
    "correct_scores = np.asarray([\n",
    "  [-0.81233741, -1.27654624, -0.70335995],\n",
    "  [-0.17129677, -1.18803311, -0.47310444],\n",
    "  [-0.51590475, -1.01354314, -0.8504215 ],\n",
    "  [-0.15419291, -0.48629638, -0.52901952],\n",
    "  [-0.00618733, -0.12435261, -0.15226949]])\n",
    "print(correct_scores)\n",
    "print()\n",
    "\n",
    "# The difference should be very small. We get < 1e-7\n",
    "print('Difference between your scores and correct scores:')\n",
    "print(np.sum(np.abs(scores - correct_scores)))"
   ]
  },
  {
   "cell_type": "markdown",
   "metadata": {},
   "source": [
    "# Forward pass: compute loss\n",
    "In the same function, implement the second part that computes the data and regularization loss."
   ]
  },
  {
   "cell_type": "code",
   "execution_count": 6,
   "metadata": {
    "scrolled": true
   },
   "outputs": [
    {
     "name": "stdout",
     "output_type": "stream",
     "text": [
      "Difference between your loss and correct loss:\n",
      "1.7985612998927536e-13\n"
     ]
    }
   ],
   "source": [
    "loss, _ = net.loss(X, y, reg=0.05)\n",
    "correct_loss = 1.30378789133\n",
    "\n",
    "# should be very small, we get < 1e-12\n",
    "print('Difference between your loss and correct loss:')\n",
    "print(np.sum(np.abs(loss - correct_loss)))"
   ]
  },
  {
   "cell_type": "markdown",
   "metadata": {},
   "source": [
    "# Backward pass\n",
    "Implement the rest of the function. This will compute the gradient of the loss with respect to the variables `W1`, `b1`, `W2`, and `b2`. Now that you (hopefully!) have a correctly implemented forward pass, you can debug your backward pass using a numeric gradient check:"
   ]
  },
  {
   "cell_type": "code",
   "execution_count": 7,
   "metadata": {
    "scrolled": true
   },
   "outputs": [
    {
     "name": "stdout",
     "output_type": "stream",
     "text": [
      "W1\n",
      "[[-9.68499043e-02  4.00157208e-03 -2.05517828e-01  1.87986352e-01\n",
      "   1.60531645e-01 -9.77277880e-03  9.50088418e-03  2.68884345e-03\n",
      "  -3.01022811e-02 -5.67802801e-03]\n",
      " [ 4.45595008e-02  1.45427351e-02  6.95515502e-01 -2.88616327e-01\n",
      "  -2.66986989e-01  3.33674327e-03  1.49407907e-02  1.93435586e-02\n",
      "  -6.54700997e-02 -5.32928651e-01]\n",
      " [ 1.16977821e-02  6.53618595e-03 -2.31623550e-01 -6.26390355e-02\n",
      "  -1.41638971e-03 -1.45436567e-02  4.57585173e-04 -2.90067077e-03\n",
      "   5.35668029e-01  3.69731998e-01]\n",
      " [ 7.71766403e-02  3.78162520e-03 -3.13778323e-01  2.26868568e-01\n",
      "   2.06678709e-01  1.56348969e-03  1.23029068e-02 -2.18055786e-03\n",
      "  -6.78943040e-01  9.85573015e-02]]\n",
      "[[-9.68499041e-02  4.00157208e-03 -2.05517787e-01  1.87986350e-01\n",
      "   1.60531643e-01 -9.77277880e-03  9.50088418e-03  2.68884345e-03\n",
      "  -3.01022824e-02 -5.67803307e-03]\n",
      " [ 4.45595008e-02  1.45427351e-02  6.95515404e-01 -2.88616323e-01\n",
      "  -2.66986985e-01  3.33674327e-03  1.49407907e-02  1.93435590e-02\n",
      "  -6.54700749e-02 -5.32928636e-01]\n",
      " [ 1.16977821e-02  6.53618595e-03 -2.31623476e-01 -6.26390377e-02\n",
      "  -1.41639234e-03 -1.45436567e-02  4.57585173e-04 -2.90067077e-03\n",
      "   5.35668008e-01  3.69731987e-01]\n",
      " [ 7.71766402e-02  3.78162520e-03 -3.13778412e-01  2.26868570e-01\n",
      "   2.06678712e-01  1.56348969e-03  1.23029068e-02 -2.18055800e-03\n",
      "  -6.78943018e-01  9.85573140e-02]]\n",
      "W1 max relative error: 9.265894e-07\n",
      "b1\n",
      "[-0.0070484   0.          0.00310494 -0.0072399  -0.00573377  0.\n",
      "  0.         -0.0024372   0.04121605  0.02236176]\n",
      "[-0.0070484   0.          0.00310494 -0.0072399  -0.00573377  0.\n",
      "  0.         -0.0024372   0.04121605  0.02236176]\n",
      "b1 max relative error: 4.985031e-09\n",
      "W2\n",
      "[[-5.13764691e-01  1.67232930e-01  3.04783350e-01]\n",
      " [ 1.95077540e-02 -5.09652182e-03 -4.38074302e-03]\n",
      " [ 2.92229174e-01  1.18896894e-01 -4.32018096e-01]\n",
      " [-2.33121075e-01  1.86288200e-01  3.96198312e-02]\n",
      " [ 7.78174796e-01 -3.54233027e-01 -4.41137965e-01]\n",
      " [ 4.28331871e-03  6.65172224e-04  3.02471898e-03]\n",
      " [-6.34322094e-03 -3.62741166e-03 -6.72460448e-03]\n",
      " [ 6.17281609e-02 -1.29900489e-01  3.91825079e-02]\n",
      " [ 6.32053946e-01 -8.44023525e-02 -5.66197124e-01]\n",
      " [ 8.89334995e-01 -6.04709349e-01 -2.88551353e-01]]\n",
      "[[-5.13764658e-01  1.67232979e-01  3.04783374e-01]\n",
      " [ 1.95077540e-02 -5.09652182e-03 -4.38074302e-03]\n",
      " [ 2.92229186e-01  1.18896926e-01 -4.32018068e-01]\n",
      " [-2.33120942e-01  1.86288423e-01  3.96199537e-02]\n",
      " [ 7.78174841e-01 -3.54232855e-01 -4.41137829e-01]\n",
      " [ 4.28331871e-03  6.65172224e-04  3.02471898e-03]\n",
      " [-6.34322094e-03 -3.62741166e-03 -6.72460448e-03]\n",
      " [ 6.17281613e-02 -1.29900489e-01  3.91825083e-02]\n",
      " [ 6.32053957e-01 -8.44023191e-02 -5.66197095e-01]\n",
      " [ 8.89335021e-01 -6.04709213e-01 -2.88551249e-01]]\n",
      "W2 max relative error: 1.545978e-06\n",
      "b2\n",
      "[ 0.2099691 -0.1431905 -0.0667786]\n",
      "[ 0.2099691 -0.1431905 -0.0667786]\n",
      "b2 max relative error: 2.259521e-08\n"
     ]
    }
   ],
   "source": [
    "from cs231n.gradient_check import *\n",
    "\n",
    "# Use numeric gradient checking to check your implementation of the backward pass.\n",
    "# If your implementation is correct, the difference between the numeric and\n",
    "# analytic gradients should be less than 1e-8 for each of W1, W2, b1, and b2.\n",
    "\n",
    "loss, grads = net.loss(X, y, reg=0.05)\n",
    "grad_numerical = {}\n",
    "\n",
    "# these should all be less than 1e-8 or so\n",
    "for param_name in grads:\n",
    "    f = lambda W: net.loss(X, y, reg=0.05)[0]\n",
    "    param_grad_num = eval_numerical_gradient_array(f, net.params[param_name], 1.0, verbose=False, h=0.0005)\n",
    "    grad_numerical[param_name] = param_grad_num\n",
    "    print(param_name)\n",
    "    print(grads[param_name])\n",
    "    print(grad_numerical[param_name])\n",
    "    print('%s max relative error: %e' % (param_name, rel_error(param_grad_num, grads[param_name])))"
   ]
  },
  {
   "cell_type": "code",
   "execution_count": 8,
   "metadata": {
    "scrolled": false
   },
   "outputs": [
    {
     "name": "stdout",
     "output_type": "stream",
     "text": [
      "1.3037878913298202\n",
      "{'W1': array([[-9.68499043e-02,  4.00157208e-03, -2.05517828e-01,\n",
      "         1.87986352e-01,  1.60531645e-01, -9.77277880e-03,\n",
      "         9.50088418e-03,  2.68884345e-03, -3.01022811e-02,\n",
      "        -5.67802801e-03],\n",
      "       [ 4.45595008e-02,  1.45427351e-02,  6.95515502e-01,\n",
      "        -2.88616327e-01, -2.66986989e-01,  3.33674327e-03,\n",
      "         1.49407907e-02,  1.93435586e-02, -6.54700997e-02,\n",
      "        -5.32928651e-01],\n",
      "       [ 1.16977821e-02,  6.53618595e-03, -2.31623550e-01,\n",
      "        -6.26390355e-02, -1.41638971e-03, -1.45436567e-02,\n",
      "         4.57585173e-04, -2.90067077e-03,  5.35668029e-01,\n",
      "         3.69731998e-01],\n",
      "       [ 7.71766403e-02,  3.78162520e-03, -3.13778323e-01,\n",
      "         2.26868568e-01,  2.06678709e-01,  1.56348969e-03,\n",
      "         1.23029068e-02, -2.18055786e-03, -6.78943040e-01,\n",
      "         9.85573015e-02]]), 'b1': array([-0.0070484 ,  0.        ,  0.00310494, -0.0072399 , -0.00573377,\n",
      "        0.        ,  0.        , -0.0024372 ,  0.04121605,  0.02236176]), 'W2': array([[-5.13764691e-01,  1.67232930e-01,  3.04783350e-01],\n",
      "       [ 1.95077540e-02, -5.09652182e-03, -4.38074302e-03],\n",
      "       [ 2.92229174e-01,  1.18896894e-01, -4.32018096e-01],\n",
      "       [-2.33121075e-01,  1.86288200e-01,  3.96198312e-02],\n",
      "       [ 7.78174796e-01, -3.54233027e-01, -4.41137965e-01],\n",
      "       [ 4.28331871e-03,  6.65172224e-04,  3.02471898e-03],\n",
      "       [-6.34322094e-03, -3.62741166e-03, -6.72460448e-03],\n",
      "       [ 6.17281609e-02, -1.29900489e-01,  3.91825079e-02],\n",
      "       [ 6.32053946e-01, -8.44023525e-02, -5.66197124e-01],\n",
      "       [ 8.89334995e-01, -6.04709349e-01, -2.88551353e-01]]), 'b2': array([ 0.2099691, -0.1431905, -0.0667786])}\n"
     ]
    }
   ],
   "source": [
    "print(loss)\n",
    "print(grads)"
   ]
  },
  {
   "cell_type": "code",
   "execution_count": 9,
   "metadata": {},
   "outputs": [
    {
     "name": "stdout",
     "output_type": "stream",
     "text": [
      "[ 0.2099691 -0.1431905 -0.0667786]\n"
     ]
    }
   ],
   "source": [
    "print(param_grad_num)"
   ]
  },
  {
   "cell_type": "code",
   "execution_count": null,
   "metadata": {},
   "outputs": [],
   "source": []
  },
  {
   "cell_type": "code",
   "execution_count": null,
   "metadata": {},
   "outputs": [],
   "source": []
  },
  {
   "cell_type": "code",
   "execution_count": null,
   "metadata": {},
   "outputs": [],
   "source": []
  },
  {
   "cell_type": "markdown",
   "metadata": {},
   "source": [
    "# Train the network\n",
    "To train the network we will use stochastic gradient descent (SGD), similar to the SVM and Softmax classifiers. Look at the function `TwoLayerNet.train` and fill in the missing sections to implement the training procedure. This should be very similar to the training procedure you used for the SVM and Softmax classifiers. You will also have to implement `TwoLayerNet.predict`, as the training process periodically performs prediction to keep track of accuracy over time while the network trains.\n",
    "\n",
    "Once you have implemented the method, run the code below to train a two-layer network on toy data. You should achieve a training loss less than 0.02."
   ]
  },
  {
   "cell_type": "code",
   "execution_count": 10,
   "metadata": {},
   "outputs": [
    {
     "name": "stdout",
     "output_type": "stream",
     "text": [
      "iteration 0 / 100: loss 1.232139\n",
      "iteration 10 / 100: loss 0.091468\n",
      "iteration 20 / 100: loss 0.032928\n",
      "iteration 30 / 100: loss 0.023769\n",
      "iteration 40 / 100: loss 0.019621\n",
      "iteration 50 / 100: loss 0.017490\n",
      "iteration 60 / 100: loss 0.016456\n",
      "iteration 70 / 100: loss 0.014479\n",
      "iteration 80 / 100: loss 0.014334\n",
      "iteration 90 / 100: loss 0.015462\n",
      "Final training loss:  0.015235502998871015\n"
     ]
    },
    {
     "data": {
      "image/png": "[encoded data removed]",
      "text/plain": [
       "<Figure size 432x288 with 1 Axes>"
      ]
     },
     "metadata": {
      "needs_background": "light"
     },
     "output_type": "display_data"
    }
   ],
   "source": [
    "net = init_toy_model()\n",
    "stats = net.train(X, y, X, y,\n",
    "            learning_rate=1e-1, reg=5e-6,\n",
    "            num_iters=100, verbose=True)\n",
    "\n",
    "print('Final training loss: ', stats['loss_history'][-1])\n",
    "\n",
    "# plot the loss history\n",
    "plt.plot(stats['loss_history'])\n",
    "plt.xlabel('iteration')\n",
    "plt.ylabel('training loss')\n",
    "plt.title('Training Loss history')\n",
    "plt.show()"
   ]
  },
  {
   "cell_type": "markdown",
   "metadata": {},
   "source": [
    "# Load the data\n",
    "Now that you have implemented a two-layer network that passes gradient checks and works on toy data, it's time to load up our favorite CIFAR-10 data so we can use it to train a classifier on a real dataset."
   ]
  },
  {
   "cell_type": "code",
   "execution_count": 11,
   "metadata": {
    "tags": [
     "pdf-ignore"
    ]
   },
   "outputs": [
    {
     "name": "stdout",
     "output_type": "stream",
     "text": [
      "Train data shape:  (49000, 3072)\n",
      "Train labels shape:  (49000,)\n",
      "Validation data shape:  (1000, 3072)\n",
      "Validation labels shape:  (1000,)\n",
      "Test data shape:  (1000, 3072)\n",
      "Test labels shape:  (1000,)\n"
     ]
    }
   ],
   "source": [
    "from cs231n.data_utils import load_CIFAR10\n",
    "\n",
    "def get_CIFAR10_data(num_training=49000, num_validation=1000, num_test=1000):\n",
    "    \"\"\"\n",
    "    Load the CIFAR-10 dataset from disk and perform preprocessing to prepare\n",
    "    it for the two-layer neural net classifier. These are the same steps as\n",
    "    we used for the SVM, but condensed to a single function.  \n",
    "    \"\"\"\n",
    "    # Load the raw CIFAR-10 data\n",
    "    cifar10_dir = 'cs231n/datasets/cifar-10-batches-py'\n",
    "    \n",
    "    # Cleaning up variables to prevent loading data multiple times (which may cause memory issue)\n",
    "    try:\n",
    "       del X_train, y_train\n",
    "       del X_test, y_test\n",
    "       print('Clear previously loaded data.')\n",
    "    except:\n",
    "       pass\n",
    "\n",
    "    X_train, y_train, X_test, y_test = load_CIFAR10(cifar10_dir)\n",
    "        \n",
    "    # Subsample the data\n",
    "    mask = list(range(num_training, num_training + num_validation))\n",
    "    X_val = X_train[mask]\n",
    "    y_val = y_train[mask]\n",
    "    mask = list(range(num_training))\n",
    "    X_train = X_train[mask]\n",
    "    y_train = y_train[mask]\n",
    "    mask = list(range(num_test))\n",
    "    X_test = X_test[mask]\n",
    "    y_test = y_test[mask]\n",
    "\n",
    "    # Normalize the data: subtract the mean image\n",
    "    mean_image = np.mean(X_train, axis=0)\n",
    "    X_train -= mean_image\n",
    "    X_val -= mean_image\n",
    "    X_test -= mean_image\n",
    "\n",
    "    # Reshape data to rows\n",
    "    X_train = X_train.reshape(num_training, -1)\n",
    "    X_val = X_val.reshape(num_validation, -1)\n",
    "    X_test = X_test.reshape(num_test, -1)\n",
    "\n",
    "    return X_train, y_train, X_val, y_val, X_test, y_test\n",
    "\n",
    "\n",
    "# Invoke the above function to get our data.\n",
    "X_train, y_train, X_val, y_val, X_test, y_test = get_CIFAR10_data()\n",
    "print('Train data shape: ', X_train.shape)\n",
    "print('Train labels shape: ', y_train.shape)\n",
    "print('Validation data shape: ', X_val.shape)\n",
    "print('Validation labels shape: ', y_val.shape)\n",
    "print('Test data shape: ', X_test.shape)\n",
    "print('Test labels shape: ', y_test.shape)"
   ]
  },
  {
   "cell_type": "markdown",
   "metadata": {},
   "source": [
    "# Train a network\n",
    "To train our network we will use SGD. In addition, we will adjust the learning rate with an exponential learning rate schedule as optimization proceeds; after each epoch, we will reduce the learning rate by multiplying it by a decay rate."
   ]
  },
  {
   "cell_type": "code",
   "execution_count": 12,
   "metadata": {
    "scrolled": true,
    "tags": [
     "code"
    ]
   },
   "outputs": [
    {
     "name": "stdout",
     "output_type": "stream",
     "text": [
      "iteration 0 / 1000: loss 2.302955\n",
      "iteration 10 / 1000: loss 2.302972\n",
      "iteration 20 / 1000: loss 2.302933\n",
      "iteration 30 / 1000: loss 2.302911\n",
      "iteration 40 / 1000: loss 2.302892\n",
      "iteration 50 / 1000: loss 2.302847\n",
      "iteration 60 / 1000: loss 2.302811\n",
      "iteration 70 / 1000: loss 2.302736\n",
      "iteration 80 / 1000: loss 2.302725\n",
      "iteration 90 / 1000: loss 2.302580\n",
      "iteration 100 / 1000: loss 2.302519\n",
      "iteration 110 / 1000: loss 2.302496\n",
      "iteration 120 / 1000: loss 2.302235\n",
      "iteration 130 / 1000: loss 2.302202\n",
      "iteration 140 / 1000: loss 2.302096\n",
      "iteration 150 / 1000: loss 2.301989\n",
      "iteration 160 / 1000: loss 2.301190\n",
      "iteration 170 / 1000: loss 2.299631\n",
      "iteration 180 / 1000: loss 2.298834\n",
      "iteration 190 / 1000: loss 2.300027\n",
      "iteration 200 / 1000: loss 2.299170\n",
      "iteration 210 / 1000: loss 2.296730\n",
      "iteration 220 / 1000: loss 2.292302\n",
      "iteration 230 / 1000: loss 2.293119\n",
      "iteration 240 / 1000: loss 2.291353\n",
      "iteration 250 / 1000: loss 2.284611\n",
      "iteration 260 / 1000: loss 2.285006\n",
      "iteration 270 / 1000: loss 2.279168\n",
      "iteration 280 / 1000: loss 2.288388\n",
      "iteration 290 / 1000: loss 2.272415\n",
      "iteration 300 / 1000: loss 2.257456\n",
      "iteration 310 / 1000: loss 2.262292\n",
      "iteration 320 / 1000: loss 2.259902\n",
      "iteration 330 / 1000: loss 2.262297\n",
      "iteration 340 / 1000: loss 2.259182\n",
      "iteration 350 / 1000: loss 2.225228\n",
      "iteration 360 / 1000: loss 2.217666\n",
      "iteration 370 / 1000: loss 2.233499\n",
      "iteration 380 / 1000: loss 2.226137\n",
      "iteration 390 / 1000: loss 2.235244\n",
      "iteration 400 / 1000: loss 2.176434\n",
      "iteration 410 / 1000: loss 2.157544\n",
      "iteration 420 / 1000: loss 2.200078\n",
      "iteration 430 / 1000: loss 2.185810\n",
      "iteration 440 / 1000: loss 2.169004\n",
      "iteration 450 / 1000: loss 2.177771\n",
      "iteration 460 / 1000: loss 2.149066\n",
      "iteration 470 / 1000: loss 2.155577\n",
      "iteration 480 / 1000: loss 2.136013\n",
      "iteration 490 / 1000: loss 2.076033\n",
      "iteration 500 / 1000: loss 2.128285\n",
      "iteration 510 / 1000: loss 2.135593\n",
      "iteration 520 / 1000: loss 2.078765\n",
      "iteration 530 / 1000: loss 2.091373\n",
      "iteration 540 / 1000: loss 2.120969\n",
      "iteration 550 / 1000: loss 2.113223\n",
      "iteration 560 / 1000: loss 2.063542\n",
      "iteration 570 / 1000: loss 2.075999\n",
      "iteration 580 / 1000: loss 2.071734\n",
      "iteration 590 / 1000: loss 2.102761\n",
      "iteration 600 / 1000: loss 2.027025\n",
      "iteration 610 / 1000: loss 2.102148\n",
      "iteration 620 / 1000: loss 2.061342\n",
      "iteration 630 / 1000: loss 2.084257\n",
      "iteration 640 / 1000: loss 2.044365\n",
      "iteration 650 / 1000: loss 2.018388\n",
      "iteration 660 / 1000: loss 2.028741\n",
      "iteration 670 / 1000: loss 2.039636\n",
      "iteration 680 / 1000: loss 2.042502\n",
      "iteration 690 / 1000: loss 1.956205\n",
      "iteration 700 / 1000: loss 2.079447\n",
      "iteration 710 / 1000: loss 2.047896\n",
      "iteration 720 / 1000: loss 2.014282\n",
      "iteration 730 / 1000: loss 2.010082\n",
      "iteration 740 / 1000: loss 2.084435\n",
      "iteration 750 / 1000: loss 2.014787\n",
      "iteration 760 / 1000: loss 2.001403\n",
      "iteration 770 / 1000: loss 1.913364\n",
      "iteration 780 / 1000: loss 1.967683\n",
      "iteration 790 / 1000: loss 2.033051\n",
      "iteration 800 / 1000: loss 1.979310\n",
      "iteration 810 / 1000: loss 1.981756\n",
      "iteration 820 / 1000: loss 1.955319\n",
      "iteration 830 / 1000: loss 2.012649\n",
      "iteration 840 / 1000: loss 1.978811\n",
      "iteration 850 / 1000: loss 1.955412\n",
      "iteration 860 / 1000: loss 2.090009\n",
      "iteration 870 / 1000: loss 2.010530\n",
      "iteration 880 / 1000: loss 1.979849\n",
      "iteration 890 / 1000: loss 1.944378\n",
      "iteration 900 / 1000: loss 1.992099\n",
      "iteration 910 / 1000: loss 2.060308\n",
      "iteration 920 / 1000: loss 1.944789\n",
      "iteration 930 / 1000: loss 1.925800\n",
      "iteration 940 / 1000: loss 1.979862\n",
      "iteration 950 / 1000: loss 1.940362\n",
      "iteration 960 / 1000: loss 1.952482\n",
      "iteration 970 / 1000: loss 1.970831\n",
      "iteration 980 / 1000: loss 2.006835\n",
      "iteration 990 / 1000: loss 2.020170\n",
      "Validation accuracy:  0.278\n"
     ]
    }
   ],
   "source": [
    "input_size = 32 * 32 * 3\n",
    "hidden_size = 50\n",
    "num_classes = 10\n",
    "net = TwoLayerNet(input_size, hidden_size, num_classes)\n",
    "\n",
    "# Train the network\n",
    "stats = net.train(X_train, y_train, X_val, y_val,\n",
    "            num_iters=1000, batch_size=200,\n",
    "            learning_rate=1e-4, learning_rate_decay=0.95,\n",
    "            reg=0.25, verbose=True)\n",
    "\n",
    "# Predict on the validation set\n",
    "val_acc = (net.predict(X_val) == y_val).mean()\n",
    "print('Validation accuracy: ', val_acc)\n"
   ]
  },
  {
   "cell_type": "code",
   "execution_count": 13,
   "metadata": {},
   "outputs": [
    {
     "name": "stdout",
     "output_type": "stream",
     "text": [
      "[8 9 4 9 0 5 0 8 2 3 7 8 9 4 5 3 2 5 0 7 2 1 1 4 4 8 9 4 6 9 4 9 3 5 6 9 9\n",
      " 7 7 6 1 6 8 8 3 1 6 7 7 2 0 7 5 2 3 4 6 9 7 6 1 6 6 7 9 9 1 0 2 2 5 7 9 9\n",
      " 9 1 6 4 3 3 1 3 6 3 1 1 9 9 6 3 8 0 0 2 6 6 1 4 4 2 0 2 8 7 2 5 2 0 8 7 6\n",
      " 5 9 5 4 8 7 3 5 6 5 1 1 9 9 9 7 8 0 6 0 3 7 7 8 6 1 1 4 7 3 7 3 3 8 6 3 9\n",
      " 1 0 1 1 8 2 4 5 2 3 9 2 8 8 7 1 0 8 8 9 0 0 3 6 5 1 0 7 0 8 3 2 8 9 8 7 8\n",
      " 5 1 4 5 0 3 8 6 9 9 8 1 3 7 4 6 8 7 7 4 0 9 4 9 6 6 9 6 4 6 5 8 9 3 0 8 1\n",
      " 3 3 2 1 7 3 9 7 1 7 1 3 1 8 0 4 9 1 3 7 5 4 9 0 7 8 2 9 8 4 4 8 5 0 2 8 8\n",
      " 5 9 6 7 0 7 6 9 5 2 1 7 5 7 3 2 2 0 7 9 6 3 7 2 1 9 6 1 9 5 6 2 8 4 7 5 9\n",
      " 6 2 3 3 9 5 6 0 5 6 3 6 0 7 7 6 6 1 1 5 5 4 4 3 6 8 3 7 5 3 1 5 2 2 8 2 7\n",
      " 5 5 7 3 1 9 0 0 7 2 6 0 1 0 8 1 0 7 6 4 6 1 4 1 2 8 0 9 6 1 7 6 4 3 3 3 9\n",
      " 9 0 8 0 8 0 1 7 8 8 5 1 6 1 3 9 3 0 8 8 4 7 1 8 6 2 7 2 9 5 8 1 4 9 6 9 6\n",
      " 7 3 1 0 1 6 7 4 8 1 9 6 2 0 4 5 0 3 9 1 9 5 8 3 5 2 6 8 1 1 5 1 0 6 0 9 3\n",
      " 3 8 8 1 3 2 2 7 5 9 7 5 7 2 2 6 9 9 6 3 6 8 3 5 3 1 7 2 5 8 5 4 7 9 3 8 4\n",
      " 3 5 1 5 7 1 1 4 1 0 1 3 5 1 5 6 0 0 3 3 8 9 1 4 1 4 0 5 1 0 0 6 0 5 4 6 0\n",
      " 4 5 9 8 5 5 7 0 1 2 0 7 0 5 8 6 9 0 2 6 2 1 9 5 8 8 3 3 9 5 5 2 6 8 5 8 1\n",
      " 0 0 0 2 0 2 1 1 3 4 5 1 8 8 1 8 8 1 2 3 4 3 5 7 5 9 6 3 9 6 1 4 1 1 1 1 8\n",
      " 7 1 1 4 9 4 4 3 3 9 3 6 1 4 7 6 4 3 7 9 5 1 3 0 1 2 3 3 7 6 4 6 6 8 3 7 0\n",
      " 1 7 8 3 0 9 0 6 9 5 6 7 0 9 1 5 4 3 5 7 5 7 0 1 6 8 6 0 8 1 7 0 5 9 1 9 5\n",
      " 2 6 3 4 9 0 0 7 1 5 1 8 2 8 5 8 5 2 2 4 2 4 9 7 4 3 3 2 9 7 8 8 6 4 2 3 1\n",
      " 5 6 1 7 5 6 5 2 0 8 3 5 5 1 0 4 4 5 2 5 0 2 2 3 4 7 5 2 7 9 1 0 0 2 7 7 0\n",
      " 4 3 3 4 8 7 8 6 1 4 9 4 8 5 6 2 2 8 4 1 7 0 3 7 8 7 9 8 1 1 3 6 7 3 7 3 6\n",
      " 1 8 9 9 2 8 9 2 9 3 1 8 8 3 3 3 9 7 1 7 5 6 0 2 7 2 5 6 4 4 3 6 7 5 7 4 6\n",
      " 7 7 9 2 6 3 1 8 3 9 4 3 5 8 8 6 8 9 3 9 6 3 6 0 8 3 3 7 9 7 9 5 7 1 5 1 7\n",
      " 8 8 6 6 3 0 8 2 5 9 8 6 0 9 8 5 5 0 0 2 1 3 1 6 1 8 2 9 9 9 2 5 5 5 7 1 8\n",
      " 2 9 5 0 6 7 1 4 3 8 4 8 3 3 4 7 9 8 3 7 9 6 8 9 7 1 2 8 8 9 3 1 5 0 3 6 8\n",
      " 7 9 5 6 6 0 9 1 1 3 7 8 1 5 7 3 0 7 7 3 9 4 4 6 6 4 4 6 8 4 8 2 5 3 1 8 7\n",
      " 6 9 5 7 6 8 8 2 3 9 2 1 4 3 8 1 7 3 5 4 3 3 4 8 7 2 5 1 4 2 0 1 0 2 6 9 1\n",
      " 1]\n"
     ]
    }
   ],
   "source": [
    "print(y_val)"
   ]
  },
  {
   "cell_type": "code",
   "execution_count": 14,
   "metadata": {
    "scrolled": true
   },
   "outputs": [
    {
     "name": "stdout",
     "output_type": "stream",
     "text": [
      "[8 2 8 6 9 6 0 0 3 5 4 9 9 0 7 5 4 6 0 6 8 9 6 1 0 8 9 6 0 8 6 9 5 5 5 9 8\n",
      " 6 6 5 9 6 9 8 6 9 6 0 5 6 1 5 5 0 0 6 5 9 9 1 0 6 9 9 9 9 9 0 5 5 6 9 9 6\n",
      " 2 8 6 6 4 8 6 5 9 5 8 8 8 8 0 3 8 0 9 0 6 6 0 6 5 4 0 0 0 6 6 6 5 0 0 6 6\n",
      " 5 9 5 5 9 5 1 7 6 5 6 9 9 8 9 0 8 8 6 8 6 9 8 0 6 2 8 4 7 4 6 6 9 5 6 7 6\n",
      " 9 0 9 0 0 0 0 8 4 1 8 6 8 0 9 9 8 7 8 8 8 8 9 5 6 0 0 8 9 8 8 5 8 9 9 9 8\n",
      " 0 9 6 3 0 6 8 5 8 8 0 0 0 5 0 6 8 9 6 1 0 9 6 9 1 6 9 6 6 1 6 5 9 2 0 8 9\n",
      " 0 1 6 9 6 6 9 5 9 4 5 5 1 8 8 6 8 8 5 5 5 6 6 0 8 8 4 9 8 6 6 0 9 0 4 8 9\n",
      " 5 6 6 9 5 7 7 9 5 8 1 7 5 5 0 8 5 0 6 8 8 1 9 6 6 9 6 2 9 5 6 6 0 6 6 4 9\n",
      " 9 6 5 5 6 5 7 9 5 6 0 5 8 6 5 5 6 6 5 6 0 6 6 6 5 4 9 9 5 6 5 6 6 5 8 4 7\n",
      " 5 6 2 9 9 8 0 0 6 5 4 8 9 0 0 9 0 9 4 4 5 9 6 8 7 8 8 8 9 9 4 6 1 6 8 5 9\n",
      " 9 8 8 0 8 0 0 5 2 8 5 7 6 1 6 9 5 1 8 8 9 6 6 8 6 9 6 0 8 4 9 0 6 6 4 9 5\n",
      " 6 8 1 6 1 6 9 4 8 9 6 9 5 8 6 5 0 9 0 8 0 6 8 5 4 0 6 9 9 9 5 6 0 6 0 0 0\n",
      " 4 0 8 6 9 5 6 6 5 4 9 6 6 0 6 6 1 1 5 5 6 8 0 9 5 9 5 0 7 9 0 5 8 8 6 8 6\n",
      " 5 6 1 4 6 9 6 6 0 0 9 0 5 6 5 6 8 8 5 9 8 2 8 9 9 5 0 5 6 0 6 6 5 6 9 6 8\n",
      " 4 0 9 9 6 4 7 0 9 5 0 0 8 6 8 6 9 8 6 6 6 1 9 0 8 0 6 6 8 5 3 0 5 8 5 8 0\n",
      " 4 0 7 0 9 5 6 8 1 6 4 4 8 8 2 8 9 9 0 0 2 6 6 9 5 9 5 1 9 1 1 5 4 9 6 9 0\n",
      " 1 9 6 0 9 5 1 8 5 9 6 5 1 6 9 6 6 6 5 9 6 5 6 0 9 6 6 0 5 4 6 6 7 0 5 0 8\n",
      " 6 7 9 6 0 9 9 1 9 6 6 9 8 9 9 0 6 5 6 5 7 8 5 9 6 8 9 0 8 9 6 1 0 9 8 8 0\n",
      " 6 6 5 2 9 9 0 0 6 7 9 0 0 5 9 8 0 6 0 4 6 6 6 5 8 5 6 6 0 0 9 8 6 6 6 8 9\n",
      " 5 4 9 9 6 1 0 6 8 8 0 5 5 8 0 2 5 6 5 4 5 2 0 6 2 7 6 5 6 9 6 8 5 8 6 5 0\n",
      " 6 5 5 4 8 5 8 5 5 5 5 1 8 9 6 6 6 0 4 5 5 0 4 4 8 6 8 8 7 9 9 6 6 0 6 5 6\n",
      " 9 0 9 8 8 9 9 6 1 9 9 0 5 9 2 5 9 9 9 7 7 3 0 3 5 6 5 6 8 6 0 0 7 0 2 5 5\n",
      " 9 9 0 6 6 9 8 8 6 6 7 1 6 0 9 0 0 9 5 7 1 5 1 0 0 0 7 2 8 5 8 0 9 9 5 6 9\n",
      " 0 0 6 6 1 0 8 3 5 9 0 0 0 9 6 8 8 0 9 6 9 5 1 1 0 8 8 9 9 9 8 6 0 5 5 0 0\n",
      " 6 9 9 8 6 5 0 5 0 8 4 1 1 9 6 6 9 8 1 4 9 6 9 5 5 2 3 8 0 9 0 1 8 0 7 0 0\n",
      " 8 9 4 6 7 9 9 9 7 9 9 8 5 4 5 6 0 9 6 9 9 6 9 5 6 4 5 0 5 6 8 6 0 5 0 8 6\n",
      " 6 6 5 9 6 5 8 8 7 9 8 9 2 8 5 9 3 5 5 4 6 5 6 8 5 6 5 0 0 5 9 8 0 8 4 9 0\n",
      " 9]\n"
     ]
    }
   ],
   "source": [
    "print(net.predict(X_val))"
   ]
  },
  {
   "cell_type": "code",
   "execution_count": null,
   "metadata": {},
   "outputs": [],
   "source": []
  },
  {
   "cell_type": "code",
   "execution_count": null,
   "metadata": {},
   "outputs": [],
   "source": []
  },
  {
   "cell_type": "markdown",
   "metadata": {},
   "source": [
    "# Debug the training\n",
    "With the default parameters we provided above, you should get a validation accuracy of about 0.29 on the validation set. This isn't very good.\n",
    "\n",
    "One strategy for getting insight into what's wrong is to plot the loss function and the accuracies on the training and validation sets during optimization.\n",
    "\n",
    "Another strategy is to visualize the weights that were learned in the first layer of the network. In most neural networks trained on visual data, the first layer weights typically show some visible structure when visualized."
   ]
  },
  {
   "cell_type": "code",
   "execution_count": 15,
   "metadata": {},
   "outputs": [
    {
     "data": {
      "image/png": "[encoded data removed]",
      "text/plain": [
       "<Figure size 432x288 with 2 Axes>"
      ]
     },
     "metadata": {
      "needs_background": "light"
     },
     "output_type": "display_data"
    }
   ],
   "source": [
    "# Plot the loss function and train / validation accuracies\n",
    "plt.subplot(2, 1, 1)\n",
    "plt.plot(stats['loss_history'])\n",
    "plt.title('Loss history')\n",
    "plt.xlabel('Iteration')\n",
    "plt.ylabel('Loss')\n",
    "\n",
    "plt.subplot(2, 1, 2)\n",
    "plt.plot(stats['train_acc_history'], label='train')\n",
    "plt.plot(stats['val_acc_history'], label='val')\n",
    "plt.title('Classification accuracy history')\n",
    "plt.xlabel('Epoch')\n",
    "plt.ylabel('Classification accuracy')\n",
    "plt.legend()\n",
    "plt.show()"
   ]
  },
  {
   "cell_type": "code",
   "execution_count": null,
   "metadata": {},
   "outputs": [],
   "source": [
    "from cs231n.vis_utils import visualize_grid\n",
    "\n",
    "# Visualize the weights of the network\n",
    "\n",
    "def show_net_weights(net):\n",
    "    W1 = net.params['W1']\n",
    "    W1 = W1.reshape(32, 32, 3, -1).transpose(3, 0, 1, 2)\n",
    "    plt.imshow(visualize_grid(W1, padding=3).astype('uint8'))\n",
    "    plt.gca().axis('off')\n",
    "    plt.show()\n",
    "\n",
    "show_net_weights(net)"
   ]
  },
  {
   "cell_type": "markdown",
   "metadata": {},
   "source": [
    "# Tune your hyperparameters\n",
    "\n",
    "**What's wrong?**. Looking at the visualizations above, we see that the loss is decreasing more or less linearly, which seems to suggest that the learning rate may be too low. Moreover, there is no gap between the training and validation accuracy, suggesting that the model we used has low capacity, and that we should increase its size. On the other hand, with a very large model we would expect to see more overfitting, which would manifest itself as a very large gap between the training and validation accuracy.\n",
    "\n",
    "**Tuning**. Tuning the hyperparameters and developing intuition for how they affect the final performance is a large part of using Neural Networks, so we want you to get a lot of practice. Below, you should experiment with different values of the various hyperparameters, including hidden layer size, learning rate, numer of training epochs, and regularization strength. You might also consider tuning the learning rate decay, but you should be able to get good performance using the default value.\n",
    "\n",
    "**Approximate results**. You should be aim to achieve a classification accuracy of greater than 48% on the validation set. Our best network gets over 52% on the validation set.\n",
    "\n",
    "**Experiment**: You goal in this exercise is to get as good of a result on CIFAR-10 as you can (52% could serve as a reference), with a fully-connected Neural Network. Feel free implement your own techniques (e.g. PCA to reduce dimensionality, or adding dropout, or adding features to the solver, etc.)."
   ]
  },
  {
   "cell_type": "markdown",
   "metadata": {
    "tags": [
     "pdf-inline"
    ]
   },
   "source": [
    "**Explain your hyperparameter tuning process below.**\n",
    "\n",
    "$\\color{blue}{\\textit Your Answer:}$"
   ]
  },
  {
   "cell_type": "code",
   "execution_count": null,
   "metadata": {
    "tags": [
     "code"
    ]
   },
   "outputs": [],
   "source": [
    "best_net = None # store the best model into this \n",
    "\n",
    "#################################################################################\n",
    "# TODO: Tune hyperparameters using the validation set. Store your best trained  #\n",
    "# model in best_net.                                                            #\n",
    "#                                                                               #\n",
    "# To help debug your network, it may help to use visualizations similar to the  #\n",
    "# ones we used above; these visualizations will have significant qualitative    #\n",
    "# differences from the ones we saw above for the poorly tuned network.          #\n",
    "#                                                                               #\n",
    "# Tweaking hyperparameters by hand can be fun, but you might find it useful to  #\n",
    "# write code to sweep through possible combinations of hyperparameters          #\n",
    "# automatically like we did on the previous exercises.                          #\n",
    "#################################################################################\n",
    "# *****START OF YOUR CODE (DO NOT DELETE/MODIFY THIS LINE)*****\n",
    "\n",
    "pass\n",
    "\n",
    "# *****END OF YOUR CODE (DO NOT DELETE/MODIFY THIS LINE)*****\n"
   ]
  },
  {
   "cell_type": "code",
   "execution_count": null,
   "metadata": {},
   "outputs": [],
   "source": [
    "# visualize the weights of the best network\n",
    "show_net_weights(best_net)"
   ]
  },
  {
   "cell_type": "markdown",
   "metadata": {},
   "source": [
    "# Run on the test set\n",
    "When you are done experimenting, you should evaluate your final trained network on the test set; you should get above 48%."
   ]
  },
  {
   "cell_type": "code",
   "execution_count": null,
   "metadata": {},
   "outputs": [],
   "source": [
    "test_acc = (best_net.predict(X_test) == y_test).mean()\n",
    "print('Test accuracy: ', test_acc)"
   ]
  },
  {
   "cell_type": "markdown",
   "metadata": {
    "tags": [
     "pdf-inline"
    ]
   },
   "source": [
    "**Inline Question**\n",
    "\n",
    "Now that you have trained a Neural Network classifier, you may find that your testing accuracy is much lower than the training accuracy. In what ways can we decrease this gap? Select all that apply.\n",
    "\n",
    "1. Train on a larger dataset.\n",
    "2. Add more hidden units.\n",
    "3. Increase the regularization strength.\n",
    "4. None of the above.\n",
    "\n",
    "$\\color{blue}{\\textit Your Answer:}$\n",
    "\n",
    "$\\color{blue}{\\textit Your Explanation:}$\n",
    "\n"
   ]
  }
 ],
 "metadata": {
  "kernelspec": {
   "display_name": "Python 3",
   "language": "python",
   "name": "python3"
  },
  "language_info": {
   "codemirror_mode": {
    "name": "ipython",
    "version": 3
   },
   "file_extension": ".py",
   "mimetype": "text/x-python",
   "name": "python",
   "nbconvert_exporter": "python",
   "pygments_lexer": "ipython3",
   "version": "3.7.3"
  }
 },
 "nbformat": 4,
 "nbformat_minor": 1
}
