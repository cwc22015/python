{
 "cells": [
  {
   "cell_type": "code",
   "execution_count": 5,
   "metadata": {},
   "outputs": [],
   "source": [
    "def sortedInsert(lst, items, ind):\n",
    "    size = len(lst)\n",
    "    for i in range(size):\n",
    "        if item[ind] < lst[i][ind]:\n",
    "            lst.insert(i, item)\n",
    "            break\n",
    "    else:\n",
    "        lst.append(item)\n",
    "        \n",
    "    return lst"
   ]
  },
  {
   "cell_type": "code",
   "execution_count": null,
   "metadata": {},
   "outputs": [],
   "source": []
  },
  {
   "cell_type": "code",
   "execution_count": 6,
   "metadata": {},
   "outputs": [
    {
     "name": "stdout",
     "output_type": "stream",
     "text": [
      "[[1, 'Bill Richardson'], [2, 'Mary Smith'], [4, 'Frank Hull'], [8, 'Cal Dickson']]\n"
     ]
    }
   ],
   "source": [
    "#lst = [[2, 'Mary Smith'], [3, 'John Allen'], [1, Nancy Ellison], [9, 'Iris Schwartz'], [8, 'Jean Bull'], [10, 'George Harrison'], [5, 'Harry Wheeler'], [4, 'Frank Hull'\n",
    "lst = [[1, 'Bill Richardson'], [2, 'Mary Smith'], [8, 'Cal Dickson']]\n",
    "print(sortedInsert(lst, [4, 'Frank Hull'], 0))\n",
    "\n"
   ]
  },
  {
   "cell_type": "code",
   "execution_count": 7,
   "metadata": {},
   "outputs": [
    {
     "name": "stdout",
     "output_type": "stream",
     "text": [
      "[[1, 'Bill Richardson'], [2, 'Mary Smith'], [4, 'Frank Hull'], [8, 'Cal Dickson'], [10, 'George Harrison']]\n"
     ]
    }
   ],
   "source": [
    "print(sortedInsert(lst, [10, 'George Harrison'], 0))"
   ]
  },
  {
   "cell_type": "code",
   "execution_count": null,
   "metadata": {},
   "outputs": [],
   "source": []
  },
  {
   "cell_type": "code",
   "execution_count": null,
   "metadata": {},
   "outputs": [],
   "source": []
  }
 ],
 "metadata": {
  "kernelspec": {
   "display_name": "Python 3",
   "language": "python",
   "name": "python3"
  },
  "language_info": {
   "codemirror_mode": {
    "name": "ipython",
    "version": 3
   },
   "file_extension": ".py",
   "mimetype": "text/x-python",
   "name": "python",
   "nbconvert_exporter": "python",
   "pygments_lexer": "ipython3",
   "version": "3.7.3"
  }
 },
 "nbformat": 4,
 "nbformat_minor": 2
}
